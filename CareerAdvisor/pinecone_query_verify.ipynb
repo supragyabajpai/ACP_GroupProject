{
 "cells": [
  {
   "cell_type": "code",
   "execution_count": 53,
   "metadata": {},
   "outputs": [],
   "source": [
    "from llama_index.core import VectorStoreIndex, SimpleDirectoryReader\n",
    "from llama_index.vector_stores.pinecone import PineconeVectorStore\n",
    "from llama_index.core.storage.storage_context import StorageContext\n",
    "\n",
    "from IPython.display import Markdown, display\n",
    "import os\n",
    "from pinecone import Pinecone, PodSpec\n",
    "import openai\n",
    "from openai import OpenAI\n"
   ]
  },
  {
   "cell_type": "code",
   "execution_count": 59,
   "metadata": {},
   "outputs": [
    {
     "name": "stderr",
     "output_type": "stream",
     "text": [
      "Upserted vectors: 100%|██████████| 21/21 [00:01<00:00, 18.32it/s]\n"
     ]
    }
   ],
   "source": [
    "host = \"https://dotslive-epx6c5s.svc.gcp-starter.pinecone.io\"\n",
    "pc = Pinecone(api_key=os.environ.get(\"PINECONE_API_KEY\"))\n",
    "index = pc.Index(name=\"dotslive\",host=host)\n",
    "\n",
    "# Load documents and build index\n",
    "documents = SimpleDirectoryReader( #documents\n",
    "    input_dir = './DataJobs',\n",
    "    filename_as_id= True,\n",
    "    input_files = None,\n",
    "    # exclude = 'resume.csv',\n",
    "    exclude_hidden = True, \n",
    "    errors = \"ignore\",\n",
    "    recursive = True, # for sub folders \n",
    "    encoding = \"utf-8\",\n",
    "    # required_exts = ['.csv'],\n",
    "    # file_extractor = ['.csv', PandasCSVReader],\n",
    "    \n",
    ").load_data()\n",
    "\n",
    "\n",
    "\n",
    "# Construct vector store and customize storage context\n",
    "storage_context = StorageContext.from_defaults(\n",
    "    vector_store=PineconeVectorStore(index)\n",
    ")\n",
    "\n",
    "# Create vectors for the joined descriptions\n",
    "index = VectorStoreIndex.from_documents(\n",
    "    documents,  \n",
    "    storage_context=storage_context\n",
    ")\n"
   ]
  },
  {
   "cell_type": "code",
   "execution_count": 60,
   "metadata": {},
   "outputs": [],
   "source": [
    "query_engine = index.as_query_engine()\n",
    "response = query_engine.query(\"What skills are required for Data Achitects?\")"
   ]
  },
  {
   "cell_type": "code",
   "execution_count": 62,
   "metadata": {},
   "outputs": [
    {
     "data": {
      "text/plain": [
       "'Skills required for Data Architects include proficiency in SQL and NoSQL, experience in data visualization tools, at least 5 years of experience in data modeling, proficiency in multiple modeling techniques, knowledge of database storage principles, familiarity with big data systems and database management systems, proven analytical and problem-solving abilities, and a degree in Computer Science or a relevant field.'"
      ]
     },
     "execution_count": 62,
     "metadata": {},
     "output_type": "execute_result"
    }
   ],
   "source": [
    "response.response"
   ]
  },
  {
   "cell_type": "code",
   "execution_count": 69,
   "metadata": {},
   "outputs": [
    {
     "name": "stdout",
     "output_type": "stream",
     "text": [
      "Running on local URL:  http://127.0.0.1:7863\n",
      "\n",
      "To create a public link, set `share=True` in `launch()`.\n"
     ]
    },
    {
     "data": {
      "text/html": [
       "<div><iframe src=\"http://127.0.0.1:7863/\" width=\"100%\" height=\"500\" allow=\"autoplay; camera; microphone; clipboard-read; clipboard-write;\" frameborder=\"0\" allowfullscreen></iframe></div>"
      ],
      "text/plain": [
       "<IPython.core.display.HTML object>"
      ]
     },
     "metadata": {},
     "output_type": "display_data"
    },
    {
     "data": {
      "text/plain": []
     },
     "execution_count": 69,
     "metadata": {},
     "output_type": "execute_result"
    }
   ],
   "source": [
    "import gradio as gr\n",
    "\n",
    "def query_engine_test(query, _):\n",
    "    response = query_engine.query(query)\n",
    "    return str(response.response)\n",
    "\n",
    "\n",
    "demo = gr.ChatInterface(fn=query_engine_test, examples=[\n",
    "    \"what skills are requred for machine learning engineer ?\",\n",
    "    \"can you recommend me a course ?\",\n",
    "    \"can you recommend me a course for cooking ?\",\n",
    "    \"how should i imporve my managment skills ?\",\n",
    "    \"What skills are missing in my resume ?\",\n",
    "    \"how can i improve my resume ?\"\n",
    "], title=\"Pincone access tester\")\n",
    "demo.launch()\n"
   ]
  },
  {
   "cell_type": "code",
   "execution_count": 1,
   "metadata": {},
   "outputs": [],
   "source": [
    "# try Asyncronous solution \n",
    "import nest_asyncio\n",
    "import time\n",
    "\n",
    "\n",
    "\n",
    "async def main():\n",
    "    start_time = time.time()\n",
    "    await index.as_query_engine()\n",
    "    batch = asyncio.gather(*[index.query(\"What did the author do growing up?\") for _ in range(100)])\n",
    "\n",
    "    \n",
    "    response = index.query(\"What did the author do growing up?\")\n",
    "    print(response)\n",
    "    end_time = time.time()\n",
    "    print(end_time - start_time)"
   ]
  }
 ],
 "metadata": {
  "kernelspec": {
   "display_name": "venv",
   "language": "python",
   "name": "python3"
  },
  "language_info": {
   "codemirror_mode": {
    "name": "ipython",
    "version": 3
   },
   "file_extension": ".py",
   "mimetype": "text/x-python",
   "name": "python",
   "nbconvert_exporter": "python",
   "pygments_lexer": "ipython3",
   "version": "3.11.8"
  }
 },
 "nbformat": 4,
 "nbformat_minor": 2
}
